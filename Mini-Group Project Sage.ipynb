{
 "cells": [
  {
   "cell_type": "markdown",
   "metadata": {
    "collapsed": false
   },
   "source": [
    "### <center> ICMA 222 - Introduction to Mathematical Software <center>"
   ]
  },
  {
   "cell_type": "markdown",
   "metadata": {
    "collapsed": false
   },
   "source": [
    "### <center> Mini-Project: <center>"
   ]
  },
  {
   "cell_type": "markdown",
   "metadata": {
    "collapsed": false
   },
   "source": [
    "### <center> The simulation of the probability of students that got accepted in PC and IC program in Mahidol University International College <center>"
   ]
  },
  {
   "cell_type": "markdown",
   "metadata": {
    "collapsed": false
   },
   "source": [
    "### <center> Group members:  <center>\n",
    "   ### <center>   Natcharee Chansirisakul         ICAM     6281438 <center> \n",
    "   ### <center>   Lossarin Sathitsethi                 ICAM     6380353 <center> \n",
    "   ### <center>   Warintorn Monkhaprasert      ICAM     6381281 <center> \n",
    "    \n"
   ]
  },
  {
   "cell_type": "markdown",
   "metadata": {
    "collapsed": false
   },
   "source": [
    "### 1. Program for calculating the percentage that the student is likely to get admission in IC or PC program in MUIC."
   ]
  },
  {
   "cell_type": "code",
   "execution_count": 2,
   "metadata": {
    "collapsed": false,
    "scrolled": true
   },
   "outputs": [
    {
     "data": {
      "application/vnd.jupyter.widget-view+json": {
       "model_id": "0eaa1292a6f646968659ec36272aff73",
       "version_major": 2,
       "version_minor": 0
      },
      "text/plain": [
       "interactive(children=(BoundedFloatText(value=0.0, description='GPA:', max=4.0, step=0.01), BoundedFloatText(va…"
      ]
     },
     "execution_count": 2,
     "metadata": {
     },
     "output_type": "execute_result"
    }
   ],
   "source": [
    "import ipywidgets as widgets\n",
    "from ipywidgets import *\n",
    "\n",
    "@interact\n",
    "\n",
    "def PC_IC_Calculation (GPA =widgets.BoundedFloatText(value=0.00,min=0.00,max=4.00,step=0.01,description='GPA:',disabled=False),\n",
    "   IELTS = widgets.BoundedFloatText(value=1,min=1.0,max=9.0,step=0.5,description='IELTS:',disabled=False),\n",
    "   SAT = widgets.BoundedFloatText(value=0, min=0, max=800, step=1, description='SAT Maths:', disabled=False),\n",
    "   school_rank = widgets.Dropdown(options=['A','B','C','D','F'], value='A', description='School Rank:', disabled=False)):\n",
    "\n",
    "    A:int = 100\n",
    "    B:int = 80\n",
    "    C:int = 60\n",
    "    D:int = 40\n",
    "    F:int = 0\n",
    "    IC_passing_rates:int = 80\n",
    "    PC_passing_rates:int = 60\n",
    "    Total_Percentage = 0\n",
    "    GPA_percentage:float = GPA/4.00*100\n",
    "\n",
    "    if GPA_percentage > B:\n",
    "        Total_Percentage = Total_Percentage + A\n",
    "    elif GPA_percentage > C:\n",
    "        Total_Percentage = Total_Percentage + B\n",
    "    elif GPA_percentage > D:\n",
    "        Total_Percentage = Total_Percentage + C\n",
    "    elif GPA_percentage > F:\n",
    "        Total_Percentage = Total_Percentage + D\n",
    "    else:\n",
    "        Total_Percentage = Total_Percentage + F\n",
    "\n",
    "    SAT_percentage = SAT/800*100\n",
    "    if SAT_percentage > B:\n",
    "        Total_Percentage = Total_Percentage + A\n",
    "    elif SAT_percentage > C:\n",
    "        Total_Percentage = Total_Percentage + B\n",
    "    elif SAT_percentage > D:\n",
    "        Total_Percentage = Total_Percentage + C\n",
    "    elif SAT_percentage > F:\n",
    "        Total_Percentage = Total_Percentage + D\n",
    "    else:\n",
    "        Total_Percentage = Total_Percentage + F\n",
    "\n",
    "    IELTS_percentage = IELTS/9.0*100\n",
    "    if IELTS_percentage > B:\n",
    "        Total_Percentage = Total_Percentage + A\n",
    "    elif IELTS_percentage > C:\n",
    "        Total_Percentage = Total_Percentage + B\n",
    "    elif IELTS_percentage > D:\n",
    "        Total_Percentage = Total_Percentage + C\n",
    "    elif IELTS_percentage > F:\n",
    "        Total_Percentage = Total_Percentage + D\n",
    "    else:\n",
    "        Total_Percentage = Total_Percentage + F\n",
    "\n",
    "    if school_rank == 'A':\n",
    "        Total_Percentage = Total_Percentage + A\n",
    "    elif school_rank == 'B':\n",
    "        Total_Percentage = Total_Percentage + B\n",
    "    elif school_rank == 'C':\n",
    "        Total_Percentage = Total_Percentage + C\n",
    "    elif school_rank == 'D':\n",
    "        Total_Percentage = Total_Percentage + D\n",
    "    else:\n",
    "        Total_Percentage = Total_Percentage + F\n",
    "\n",
    "    if GPA < 1:\n",
    "        return f'The student\\'s GPA is too low. Therefore, the student did not get admission in any Program in MUIC.'\n",
    "    elif Total_Percentage/4 >= IC_passing_rates:\n",
    "        return f'Student\\'s overall percentage = {Total_Percentage/4}%. Therefore, the student got admission in IC Program in MUIC.'\n",
    "    elif Total_Percentage/4 >= PC_passing_rates:\n",
    "        return f'Student\\'s overall percentage = {Total_Percentage/4}%. Therefore, the student got admission in PC Program in MUIC.'\n",
    "    else:\n",
    "        return f'Student\\'s overall percentage = {Total_Percentage/4}%. Therefore, the student did not get admission in any Program in MUIC.'"
   ]
  },
  {
   "cell_type": "markdown",
   "metadata": {
    "collapsed": false
   },
   "source": [
    "###  2. Program for Probability calculation of chance that students will get accepted into IC or PC program"
   ]
  },
  {
   "cell_type": "code",
   "execution_count": 4,
   "metadata": {
    "collapsed": false
   },
   "outputs": [
    {
     "name": "stdout",
     "output_type": "stream",
     "text": [
      "Trimester  1\n",
      "number of IC students :  72\n",
      "IC probability =  14.4 %\n",
      "number of PC students :  196\n",
      "PC probability =  39.2 %\n",
      "Total number of admitted students :  268\n",
      "Admission probability =  53.6 %\n",
      "\n",
      "\n",
      "Trimester  2\n",
      "number of IC students :  63\n",
      "IC probability =  12.6 %\n",
      "number of PC students :  207\n",
      "PC probability =  41.4 %\n",
      "Total number of admitted students :  270\n",
      "Admission probability =  54.0 %\n",
      "\n",
      "\n",
      "Trimester  3\n",
      "number of IC students :  64\n",
      "IC probability =  12.8 %\n",
      "number of PC students :  209\n",
      "PC probability =  41.8 %\n",
      "Total number of admitted students :  273\n",
      "Admission probability =  54.6 %\n",
      "\n",
      "\n"
     ]
    }
   ],
   "source": [
    "def score_random():\n",
    "    lst_allscore = []\n",
    "    list_school_rank = ['A', 'B', 'C', 'D', 'F']\n",
    "    list_ielts = [1, 1.5, 2, 2.5, 3, 3.5, 4, 4.5, 5, 5.5, 6, 6.5, 7, 7.5, 8, 8.5, 9]\n",
    "\n",
    "    for i in range(0, 500):\n",
    "        lst = []\n",
    "        GPA = round(random.uniform(0.00, 4.00), 2)\n",
    "        ielts = round(random.choice(list_ielts), 2)\n",
    "        SAT = random.randint(0, 800)\n",
    "        school = random.choice(list_school_rank)\n",
    "        lst.append(GPA)\n",
    "        lst.append(ielts)\n",
    "        lst.append(SAT)\n",
    "        lst.append(school)\n",
    "        lst_allscore.append(lst)\n",
    "    return lst_allscore\n",
    "\n",
    "def PC_IC_stimulation (GPA, IELTS, SAT, school_rank):\n",
    "    A: int = 100\n",
    "    B: int = 80\n",
    "    C: int = 60\n",
    "    D: int = 40\n",
    "    F: int = 0\n",
    "    IC_passing_rates: int = 80\n",
    "    PC_passing_rates: int = 60\n",
    "    Total_Percentage = 0\n",
    "    GPA_percentage: float = GPA / 4.00 * 100\n",
    "    if GPA_percentage > B:\n",
    "        Total_Percentage = Total_Percentage + A\n",
    "    elif GPA_percentage > C:\n",
    "        Total_Percentage = Total_Percentage + B\n",
    "    elif GPA_percentage > D:\n",
    "        Total_Percentage = Total_Percentage + C\n",
    "    elif GPA_percentage > F:\n",
    "        Total_Percentage = Total_Percentage + D\n",
    "    else:\n",
    "        Total_Percentage = Total_Percentage + F\n",
    "\n",
    "    SAT_percentage = SAT / 800 * 100\n",
    "    if SAT_percentage > B:\n",
    "        Total_Percentage = Total_Percentage + A\n",
    "    elif SAT_percentage > C:\n",
    "        Total_Percentage = Total_Percentage + B\n",
    "    elif SAT_percentage > D:\n",
    "        Total_Percentage = Total_Percentage + C\n",
    "    elif SAT_percentage > F:\n",
    "        Total_Percentage = Total_Percentage + D\n",
    "    else:\n",
    "        Total_Percentage = Total_Percentage + F\n",
    "\n",
    "    IELTS_percentage = IELTS / 9.0 * 100\n",
    "    if IELTS_percentage > B:\n",
    "        Total_Percentage = Total_Percentage + A\n",
    "    elif IELTS_percentage > C:\n",
    "        Total_Percentage = Total_Percentage + B\n",
    "    elif IELTS_percentage > D:\n",
    "        Total_Percentage = Total_Percentage + C\n",
    "    elif IELTS_percentage > F:\n",
    "        Total_Percentage = Total_Percentage + D\n",
    "    else:\n",
    "        Total_Percentage = Total_Percentage + F\n",
    "\n",
    "    if school_rank == 'A':\n",
    "        Total_Percentage = Total_Percentage + A\n",
    "    elif school_rank == 'B':\n",
    "        Total_Percentage = Total_Percentage + B\n",
    "    elif school_rank == 'C':\n",
    "        Total_Percentage = Total_Percentage + C\n",
    "    elif school_rank == 'D':\n",
    "        Total_Percentage = Total_Percentage + D\n",
    "    else:\n",
    "        Total_Percentage = Total_Percentage + F\n",
    "\n",
    "    return Total_Percentage / 4\n",
    "\n",
    "import random\n",
    "\n",
    "def stimulate():\n",
    "    score_lst = []\n",
    "    IC_passing_rates: int = 80\n",
    "    PC_passing_rates: int = 60\n",
    "    num_pc = 0\n",
    "    num_ic = 0\n",
    "    num_admission = 0\n",
    "    data = score_random()\n",
    "    for i in data:\n",
    "        GPA = i[0]\n",
    "        IELTS = i[1]\n",
    "        SAT = i[2]\n",
    "        school_rank = i[3]\n",
    "        score = PC_IC_stimulation(GPA, IELTS, SAT, school_rank)\n",
    "        score_lst.append(score)\n",
    "        if GPA > 1:\n",
    "            if score >= IC_passing_rates:\n",
    "                num_ic += 1\n",
    "                num_admission +=1\n",
    "            elif score >= PC_passing_rates:\n",
    "                num_pc += 1\n",
    "                num_admission +=1\n",
    "    ic_prob = round(num_ic/500*100,2)\n",
    "    pc_prob = round(num_pc/500*100,2)\n",
    "    admission_prob = round(num_admission/500*100,2)\n",
    "\n",
    "    print('number of IC students : ', num_ic)\n",
    "    print('IC probability = ', ic_prob ,'%')\n",
    "    print('number of PC students : ', num_pc)\n",
    "    print('PC probability = ',pc_prob,'%')\n",
    "    print('Total number of admitted students : ', num_admission)\n",
    "    print('Admission probability = ',admission_prob,'%')\n",
    "    return [num_ic,num_pc,num_admission]\n",
    "\n",
    "num_list = []\n",
    "for i in range(3):\n",
    "    print('Trimester ' ,i+1)\n",
    "    num_list.append(stimulate())\n",
    "    print('\\n')"
   ]
  },
  {
   "cell_type": "markdown",
   "metadata": {
    "collapsed": false
   },
   "source": [
    "### 3. Graph Simulation"
   ]
  },
  {
   "cell_type": "code",
   "execution_count": 5,
   "metadata": {
    "collapsed": false
   },
   "outputs": [
    {
     "data": {
      "image/png": "[encoded data removed]",
      "text/plain": [
       "<Figure size 432x288 with 3 Axes>"
      ]
     },
     "execution_count": 5,
     "metadata": {
      "needs_background": "light"
     },
     "output_type": "execute_result"
    }
   ],
   "source": [
    "import numpy as np\n",
    "import matplotlib.pyplot as plt\n",
    "import pandas as pd\n",
    "\n",
    "data = [('IC', num_list[0][0], num_list[1][0],num_list[2][0]),\n",
    "        ('PC', num_list[0][1], num_list[1][1],num_list[2][1]),\n",
    "        ('Total Admission', num_list[0][2],num_list[1][2],num_list[2][2])]\n",
    "term, term1, term2, term3 = zip(*data)\n",
    "\n",
    "def plot_and_setup_spines(ax, term, y, ylabel):\n",
    "    x = np.arange(len(term))\n",
    "    ax.bar(x, y, align='center', color='blue')\n",
    "    ax.set(xticks=x, xticklabels=term, ylabel=ylabel)\n",
    "    ax.xaxis.set_ticks_position('bottom')\n",
    "    ax.yaxis.set_ticks_position('left')\n",
    "    ax.spines['bottom'].set_position(('data', 0))\n",
    "    ax.tick_params(axis='x', direction='inout', length=9)\n",
    "    ax.margins(0.2)\n",
    "\n",
    "fig, axes = plt.subplots(nrows=3)\n",
    "fig.subplots_adjust(hspace=0.1)\n",
    "\n",
    "plot_and_setup_spines(axes[0], term, term1, 'Trimester 1')\n",
    "plot_and_setup_spines(axes[1], term, term2, 'Trimester 2')\n",
    "plot_and_setup_spines(axes[2], term, term3, 'Trimester 3')\n",
    "plt.show()"
   ]
  }
 ],
 "metadata": {
  "kernelspec": {
   "argv": [
    "sage-9.5",
    "--python",
    "-m",
    "sage.repl.ipython_kernel",
    "--matplotlib=inline",
    "-f",
    "{connection_file}"
   ],
   "display_name": "SageMath 9.5",
   "env": {
   },
   "language": "sagemath",
   "metadata": {
    "cocalc": {
     "description": "Open-source mathematical software system",
     "priority": 1,
     "url": "https://www.sagemath.org/"
    }
   },
   "name": "sage-9.5",
   "resource_dir": "/ext/jupyter/kernels/sage-9.5"
  },
  "language_info": {
   "codemirror_mode": {
    "name": "ipython",
    "version": 3
   },
   "file_extension": ".py",
   "mimetype": "text/x-python",
   "name": "python",
   "nbconvert_exporter": "python",
   "pygments_lexer": "ipython3",
   "version": "3.9.9"
  }
 },
 "nbformat": 4,
 "nbformat_minor": 4
}